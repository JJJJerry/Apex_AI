{
 "cells": [
  {
   "cell_type": "code",
   "execution_count": 43,
   "metadata": {},
   "outputs": [],
   "source": [
    "import cv2\n",
    "import numpy as np\n",
    "import win32api,win32con,win32gui,win32ui\n",
    "from PIL import Image,ImageGrab"
   ]
  },
  {
   "cell_type": "code",
   "execution_count": 44,
   "metadata": {},
   "outputs": [],
   "source": [
    "l=[(328,630),(329,852),(329,1074),(386,667),(346,1022),(387,1399),(514,333),(600,615),(540,960),(600,1362),(516,1700)]\n",
    "w=[32,32,32,72,63,72,100,180,106,190,100]"
   ]
  },
  {
   "cell_type": "code",
   "execution_count": 45,
   "metadata": {},
   "outputs": [],
   "source": [
    "class box:\n",
    "    def __init__(self,center,len):\n",
    "        self.xywh=[center[0]-len//2,center[1]-len//2,len,len]\n",
    "        self.len=len\n",
    "        self.state=0\n",
    "        self.shape=(len,len)\n",
    "        self.center=center\n",
    "    def get_self_img(self,img):\n",
    "        self_img=img[self.xywh[0]:self.xywh[0]+self.len,self.xywh[1]:self.xywh[1]+self.len]\n",
    "        return self_img\n",
    "    def update_state(self,img):\n",
    "        self_img=self.get_self_img(img)\n",
    "        hsv = cv2.cvtColor(self_img, cv2.COLOR_BGR2HSV)\n",
    "        # 颜色识别(红色)，过滤红色区域\n",
    "        lower_red1 = np.array([0, 43, 46])  # 红色阈值下界\n",
    "        higher_red1 = np.array([10, 255, 255])  # 红色阈值上界\n",
    "        mask_red1 = cv2.inRange(hsv, lower_red1, higher_red1)\n",
    "        lower_red2 = np.array([156, 43, 46])  # 红色阈值下界\n",
    "        higher_red2 = np.array([180, 255, 255])  # 红色阈值上界\n",
    "        mask_red2 = cv2.inRange(hsv, lower_red2, higher_red2)\n",
    "        mask_red = cv2.add(mask_red1, mask_red2)  # 拼接过滤后的mask\n",
    "        pd_color=np.mean(mask_red)\n",
    "        if pd_color<50: #蓝色\n",
    "            self.state=1\n",
    "        else: #红色\n",
    "            self.state=0"
   ]
  },
  {
   "cell_type": "code",
   "execution_count": 46,
   "metadata": {},
   "outputs": [],
   "source": [
    "box_list=[]\n",
    "for i in range(11):\n",
    "    box_list.append(box(l[i],w[i]))"
   ]
  },
  {
   "cell_type": "code",
   "execution_count": 47,
   "metadata": {},
   "outputs": [],
   "source": [
    "def window_capture():\n",
    "    hwnd = 0  # 窗口的编号，0号表示当前活跃窗口\n",
    "    # 根据窗口句柄获取窗口的设备上下文DC（Divice Context）\n",
    "    hwndDC = win32gui.GetWindowDC(hwnd)\n",
    "    # 根据窗口的DC获取mfcDC\n",
    "    mfcDC = win32ui.CreateDCFromHandle(hwndDC)\n",
    "    # mfcDC创建可兼容的DC\n",
    "    saveDC = mfcDC.CreateCompatibleDC()\n",
    "    # 创建bigmap准备保存图片\n",
    "    saveBitMap = win32ui.CreateBitmap()\n",
    "    # 获取监控器信息\n",
    "    MoniterDev = win32api.EnumDisplayMonitors(None, None)\n",
    "    w = 1920\n",
    "    h = 1080\n",
    "    # print w,h　　　#图片大小\n",
    "    # 为bitmap开辟空间\n",
    "    saveBitMap.CreateCompatibleBitmap(mfcDC, w, h)\n",
    "    # 高度saveDC，将截图保存到saveBitmap中\n",
    "    saveDC.SelectObject(saveBitMap)\n",
    "    # 截取从左上角（0，0）长宽为（w，h）的图片\n",
    "    saveDC.BitBlt((0, 0), (w, h), mfcDC, (640, 220), win32con.SRCCOPY)\n",
    "    #saveBitMap.SaveBitmapFile(saveDC, filename)\n",
    "    bmpinfo = saveBitMap.GetInfo()\n",
    "    bmpstr = saveBitMap.GetBitmapBits(True)\n",
    "    ###生成图像\n",
    "    im_PIL = Image.frombuffer('RGB', (bmpinfo['bmWidth'], bmpinfo['bmHeight']), bmpstr, 'raw', 'BGRX', 0, 1)\n",
    "    return im_PIL"
   ]
  },
  {
   "cell_type": "code",
   "execution_count": 49,
   "metadata": {},
   "outputs": [
    {
     "name": "stdout",
     "output_type": "stream",
     "text": [
      "第8个是蓝色\n",
      "第8个是蓝色\n",
      "第8个是蓝色\n",
      "第8个是蓝色\n",
      "第8个是蓝色\n",
      "第8个是蓝色\n",
      "第8个是蓝色\n",
      "第8个是蓝色\n",
      "第8个是蓝色\n",
      "第8个是蓝色\n"
     ]
    },
    {
     "ename": "KeyboardInterrupt",
     "evalue": "",
     "output_type": "error",
     "traceback": [
      "\u001b[1;31m---------------------------------------------------------------------------\u001b[0m",
      "\u001b[1;31mKeyboardInterrupt\u001b[0m                         Traceback (most recent call last)",
      "\u001b[1;32m~\\AppData\\Local\\Temp\\ipykernel_18684\\3905178291.py\u001b[0m in \u001b[0;36m<module>\u001b[1;34m\u001b[0m\n\u001b[0;32m      1\u001b[0m \u001b[1;32mimport\u001b[0m \u001b[0mtime\u001b[0m\u001b[1;33m\u001b[0m\u001b[1;33m\u001b[0m\u001b[0m\n\u001b[0;32m      2\u001b[0m \u001b[1;32mwhile\u001b[0m \u001b[1;36m1\u001b[0m\u001b[1;33m:\u001b[0m\u001b[1;33m\u001b[0m\u001b[1;33m\u001b[0m\u001b[0m\n\u001b[1;32m----> 3\u001b[1;33m     \u001b[0mtime\u001b[0m\u001b[1;33m.\u001b[0m\u001b[0msleep\u001b[0m\u001b[1;33m(\u001b[0m\u001b[1;36m2\u001b[0m\u001b[1;33m)\u001b[0m\u001b[1;33m\u001b[0m\u001b[1;33m\u001b[0m\u001b[0m\n\u001b[0m\u001b[0;32m      4\u001b[0m     \u001b[1;31m#img=window_capture()\u001b[0m\u001b[1;33m\u001b[0m\u001b[1;33m\u001b[0m\u001b[1;33m\u001b[0m\u001b[0m\n\u001b[0;32m      5\u001b[0m     \u001b[1;31m#img=np.array(img)[:,:,::-1]\u001b[0m\u001b[1;33m\u001b[0m\u001b[1;33m\u001b[0m\u001b[1;33m\u001b[0m\u001b[0m\n",
      "\u001b[1;31mKeyboardInterrupt\u001b[0m: "
     ]
    }
   ],
   "source": [
    "import time\n",
    "while 1:\n",
    "    time.sleep(2)\n",
    "    #img=window_capture()\n",
    "    #img=np.array(img)[:,:,::-1]\n",
    "    img=cv2.imread('imgs/start.png')\n",
    "    for i in range(11):\n",
    "        box_list[i].update_state(img)\n",
    "        if box_list[i].state==1:\n",
    "            print(f'第{i}个是蓝色')\n",
    "            mouse_move=(box_list[i].center[0]-960, box_list[i].center[1]-540)\n",
    "            win32api.mouse_event(win32con.MOUSEEVENTF_MOVE, mouse_move[0], mouse_move[1])\n",
    "            #win32api.mouse_event(win32con.MOUSEEVENTF_LEFTDOWN, 0, 0)\n",
    "            #win32api.mouse_event(win32con.MOUSEEVENTF_LEFTUP, 0, 0)\n",
    "            win32api.mouse_event(win32con.MOUSEEVENTF_MOVE, -mouse_move[0], -mouse_move[1])\n",
    "            time.sleep(0.5)\n",
    "            #win32api.mouse_event(win32con.MOUSEEVENTF_MOVE, 960, 450)\n",
    "    "
   ]
  }
 ],
 "metadata": {
  "interpreter": {
   "hash": "8c0d8dfaf6a7fb4d6df79c3eeeb9d072c60b2f8d57beb74a7d49398d3aae5815"
  },
  "kernelspec": {
   "display_name": "Python 3.7.13 64-bit ('torch': conda)",
   "language": "python",
   "name": "python3"
  },
  "language_info": {
   "codemirror_mode": {
    "name": "ipython",
    "version": 3
   },
   "file_extension": ".py",
   "mimetype": "text/x-python",
   "name": "python",
   "nbconvert_exporter": "python",
   "pygments_lexer": "ipython3",
   "version": "3.7.13"
  },
  "orig_nbformat": 4
 },
 "nbformat": 4,
 "nbformat_minor": 2
}
